{
 "cells": [
  {
   "cell_type": "code",
   "execution_count": 1,
   "id": "a4227d6e-045e-4591-85bf-2ceff7f15ab7",
   "metadata": {},
   "outputs": [],
   "source": [
    "import torch\n",
    "import torch.nn as nn\n",
    "import torch.optim as optim\n",
    "import numpy as np"
   ]
  },
  {
   "cell_type": "code",
   "execution_count": 2,
   "id": "3406e194-c1aa-4aaf-9fc7-31552853a1ef",
   "metadata": {},
   "outputs": [],
   "source": [
    "sentence = (\"if you want to build a ship, don't drum up people together to \"\n",
    "            \"collect wood and don't assign them tasks and work, but rather \"\n",
    "            \"teach them to long for the endless immensity of the sea.\")"
   ]
  },
  {
   "cell_type": "code",
   "execution_count": 3,
   "id": "a3edd487-ea8a-4784-bbb6-f40ba2a49f80",
   "metadata": {},
   "outputs": [
    {
     "data": {
      "text/plain": [
       "\"if you want to build a ship, don't drum up people together to collect wood and don't assign them tasks and work, but rather teach them to long for the endless immensity of the sea.\""
      ]
     },
     "execution_count": 3,
     "metadata": {},
     "output_type": "execute_result"
    }
   ],
   "source": [
    "sentence"
   ]
  },
  {
   "cell_type": "code",
   "execution_count": 4,
   "id": "cbaed181-dfb8-419a-a026-9dd5e6f841b2",
   "metadata": {},
   "outputs": [
    {
     "name": "stdout",
     "output_type": "stream",
     "text": [
      "{'w': 0, 'p': 1, 'y': 2, 's': 3, 'd': 4, 'o': 5, 'u': 6, 'm': 7, 'a': 8, 't': 9, ' ': 10, 'c': 11, 'n': 12, 'h': 13, 'b': 14, 'r': 15, 'k': 16, '.': 17, 'i': 18, ',': 19, 'l': 20, 'f': 21, \"'\": 22, 'g': 23, 'e': 24}\n"
     ]
    }
   ],
   "source": [
    "char_set = list(set(sentence))\n",
    "char_dic = {c: i for i, c in enumerate(char_set)}\n",
    "print(char_dic)"
   ]
  },
  {
   "cell_type": "code",
   "execution_count": 5,
   "id": "13e4ace0-beab-41e1-8e4a-cf5864189c82",
   "metadata": {},
   "outputs": [
    {
     "name": "stdout",
     "output_type": "stream",
     "text": [
      "문자 집합 크기 : 25\n"
     ]
    }
   ],
   "source": [
    "dic_size = len(char_dic)\n",
    "print(f\"문자 집합 크기 : {dic_size}\")"
   ]
  },
  {
   "cell_type": "code",
   "execution_count": 6,
   "id": "4921fe21-5f4f-4429-be36-6500a50f70f9",
   "metadata": {},
   "outputs": [],
   "source": [
    "hidden_size = dic_size\n",
    "sequence_length = 10\n",
    "lr = 1e-1"
   ]
  },
  {
   "cell_type": "code",
   "execution_count": 7,
   "id": "b943761a-75f2-480f-89c7-dcfaf6d1a8cc",
   "metadata": {},
   "outputs": [
    {
     "name": "stdout",
     "output_type": "stream",
     "text": [
      "if you wan -> f you want\n",
      "f you want ->  you want \n",
      " you want  -> you want t\n",
      "you want t -> ou want to\n",
      "ou want to -> u want to \n",
      "u want to  ->  want to b\n",
      " want to b -> want to bu\n",
      "want to bu -> ant to bui\n",
      "ant to bui -> nt to buil\n",
      "nt to buil -> t to build\n",
      "t to build ->  to build \n",
      " to build  -> to build a\n",
      "to build a -> o build a \n",
      "o build a  ->  build a s\n",
      " build a s -> build a sh\n",
      "build a sh -> uild a shi\n",
      "uild a shi -> ild a ship\n",
      "ild a ship -> ld a ship,\n",
      "ld a ship, -> d a ship, \n",
      "d a ship,  ->  a ship, d\n",
      " a ship, d -> a ship, do\n",
      "a ship, do ->  ship, don\n",
      " ship, don -> ship, don'\n",
      "ship, don' -> hip, don't\n",
      "hip, don't -> ip, don't \n",
      "ip, don't  -> p, don't d\n",
      "p, don't d -> , don't dr\n",
      ", don't dr ->  don't dru\n",
      " don't dru -> don't drum\n",
      "don't drum -> on't drum \n",
      "on't drum  -> n't drum u\n",
      "n't drum u -> 't drum up\n",
      "'t drum up -> t drum up \n",
      "t drum up  ->  drum up p\n",
      " drum up p -> drum up pe\n",
      "drum up pe -> rum up peo\n",
      "rum up peo -> um up peop\n",
      "um up peop -> m up peopl\n",
      "m up peopl ->  up people\n",
      " up people -> up people \n",
      "up people  -> p people t\n",
      "p people t ->  people to\n",
      " people to -> people tog\n",
      "people tog -> eople toge\n",
      "eople toge -> ople toget\n",
      "ople toget -> ple togeth\n",
      "ple togeth -> le togethe\n",
      "le togethe -> e together\n",
      "e together ->  together \n",
      " together  -> together t\n",
      "together t -> ogether to\n",
      "ogether to -> gether to \n",
      "gether to  -> ether to c\n",
      "ether to c -> ther to co\n",
      "ther to co -> her to col\n",
      "her to col -> er to coll\n",
      "er to coll -> r to colle\n",
      "r to colle ->  to collec\n",
      " to collec -> to collect\n",
      "to collect -> o collect \n",
      "o collect  ->  collect w\n",
      " collect w -> collect wo\n",
      "collect wo -> ollect woo\n",
      "ollect woo -> llect wood\n",
      "llect wood -> lect wood \n",
      "lect wood  -> ect wood a\n",
      "ect wood a -> ct wood an\n",
      "ct wood an -> t wood and\n",
      "t wood and ->  wood and \n",
      " wood and  -> wood and d\n",
      "wood and d -> ood and do\n",
      "ood and do -> od and don\n",
      "od and don -> d and don'\n",
      "d and don' ->  and don't\n",
      " and don't -> and don't \n",
      "and don't  -> nd don't a\n",
      "nd don't a -> d don't as\n",
      "d don't as ->  don't ass\n",
      " don't ass -> don't assi\n",
      "don't assi -> on't assig\n",
      "on't assig -> n't assign\n",
      "n't assign -> 't assign \n",
      "'t assign  -> t assign t\n",
      "t assign t ->  assign th\n",
      " assign th -> assign the\n",
      "assign the -> ssign them\n",
      "ssign them -> sign them \n",
      "sign them  -> ign them t\n",
      "ign them t -> gn them ta\n",
      "gn them ta -> n them tas\n",
      "n them tas ->  them task\n",
      " them task -> them tasks\n",
      "them tasks -> hem tasks \n",
      "hem tasks  -> em tasks a\n",
      "em tasks a -> m tasks an\n",
      "m tasks an ->  tasks and\n",
      " tasks and -> tasks and \n",
      "tasks and  -> asks and w\n",
      "asks and w -> sks and wo\n",
      "sks and wo -> ks and wor\n",
      "ks and wor -> s and work\n",
      "s and work ->  and work,\n",
      " and work, -> and work, \n",
      "and work,  -> nd work, b\n",
      "nd work, b -> d work, bu\n",
      "d work, bu ->  work, but\n",
      " work, but -> work, but \n",
      "work, but  -> ork, but r\n",
      "ork, but r -> rk, but ra\n",
      "rk, but ra -> k, but rat\n",
      "k, but rat -> , but rath\n",
      ", but rath ->  but rathe\n",
      " but rathe -> but rather\n",
      "but rather -> ut rather \n",
      "ut rather  -> t rather t\n",
      "t rather t ->  rather te\n",
      " rather te -> rather tea\n",
      "rather tea -> ather teac\n",
      "ather teac -> ther teach\n",
      "ther teach -> her teach \n",
      "her teach  -> er teach t\n",
      "er teach t -> r teach th\n",
      "r teach th ->  teach the\n",
      " teach the -> teach them\n",
      "teach them -> each them \n",
      "each them  -> ach them t\n",
      "ach them t -> ch them to\n",
      "ch them to -> h them to \n",
      "h them to  ->  them to l\n",
      " them to l -> them to lo\n",
      "them to lo -> hem to lon\n",
      "hem to lon -> em to long\n",
      "em to long -> m to long \n",
      "m to long  ->  to long f\n",
      " to long f -> to long fo\n",
      "to long fo -> o long for\n",
      "o long for ->  long for \n",
      " long for  -> long for t\n",
      "long for t -> ong for th\n",
      "ong for th -> ng for the\n",
      "ng for the -> g for the \n",
      "g for the  ->  for the e\n",
      " for the e -> for the en\n",
      "for the en -> or the end\n",
      "or the end -> r the endl\n",
      "r the endl ->  the endle\n",
      " the endle -> the endles\n",
      "the endles -> he endless\n",
      "he endless -> e endless \n",
      "e endless  ->  endless i\n",
      " endless i -> endless im\n",
      "endless im -> ndless imm\n",
      "ndless imm -> dless imme\n",
      "dless imme -> less immen\n",
      "less immen -> ess immens\n",
      "ess immens -> ss immensi\n",
      "ss immensi -> s immensit\n",
      "s immensit ->  immensity\n",
      " immensity -> immensity \n",
      "immensity  -> mmensity o\n",
      "mmensity o -> mensity of\n",
      "mensity of -> ensity of \n",
      "ensity of  -> nsity of t\n",
      "nsity of t -> sity of th\n",
      "sity of th -> ity of the\n",
      "ity of the -> ty of the \n",
      "ty of the  -> y of the s\n",
      "y of the s ->  of the se\n",
      " of the se -> of the sea\n",
      "of the sea -> f the sea.\n"
     ]
    }
   ],
   "source": [
    "x_data = []\n",
    "y_data = []\n",
    "\n",
    "for i in range(0, len(sentence) - sequence_length):\n",
    "    x_str = sentence[i:i+sequence_length]\n",
    "    y_str = sentence[i+1:i+sequence_length+1]\n",
    "    print(f\"{x_str} -> {y_str}\")\n",
    "\n",
    "    x_data.append([char_dic[c] for c in x_str])\n",
    "    y_data.append([char_dic[c] for c in y_str])"
   ]
  },
  {
   "cell_type": "code",
   "execution_count": 8,
   "id": "56fa6cc6-4db6-4848-a386-f20e8bf1c755",
   "metadata": {},
   "outputs": [
    {
     "name": "stdout",
     "output_type": "stream",
     "text": [
      "[18, 21, 10, 2, 5, 6, 10, 0, 8, 12]\n",
      "[21, 10, 2, 5, 6, 10, 0, 8, 12, 9]\n"
     ]
    }
   ],
   "source": [
    "print(x_data[0])\n",
    "print(y_data[0])"
   ]
  },
  {
   "cell_type": "code",
   "execution_count": 9,
   "id": "dcedf5ca-879d-470c-9bde-382300a37211",
   "metadata": {},
   "outputs": [
    {
     "name": "stderr",
     "output_type": "stream",
     "text": [
      "C:\\Users\\kck\\AppData\\Local\\Temp\\ipykernel_32276\\3125409070.py:1: UserWarning: Creating a tensor from a list of numpy.ndarrays is extremely slow. Please consider converting the list to a single numpy.ndarray with numpy.array() before converting to a tensor. (Triggered internally at C:\\actions-runner\\_work\\pytorch\\pytorch\\builder\\windows\\pytorch\\torch\\csrc\\utils\\tensor_new.cpp:281.)\n",
      "  x_one_hot = torch.FloatTensor([np.eye(dic_size)[x] for x in x_data])\n"
     ]
    }
   ],
   "source": [
    "x_one_hot = torch.FloatTensor([np.eye(dic_size)[x] for x in x_data])\n",
    "X = x_one_hot\n",
    "Y = torch.LongTensor(y_data)"
   ]
  },
  {
   "cell_type": "code",
   "execution_count": 10,
   "id": "61394554-c4f1-4b4a-a167-1b2300ed6bd3",
   "metadata": {
    "scrolled": true
   },
   "outputs": [
    {
     "name": "stdout",
     "output_type": "stream",
     "text": [
      "torch.Size([170, 10, 25])\n",
      "torch.Size([170, 10])\n"
     ]
    }
   ],
   "source": [
    "print(X.shape)\n",
    "print(Y.shape)"
   ]
  },
  {
   "cell_type": "code",
   "execution_count": 11,
   "id": "ccf5f3ba-d4c2-46cc-b155-41d47e636621",
   "metadata": {},
   "outputs": [
    {
     "name": "stdout",
     "output_type": "stream",
     "text": [
      "X 예시 : tensor([[0., 0., 0., 0., 0., 0., 0., 0., 0., 0., 0., 0., 0., 0., 0., 0., 0., 0.,\n",
      "         1., 0., 0., 0., 0., 0., 0.],\n",
      "        [0., 0., 0., 0., 0., 0., 0., 0., 0., 0., 0., 0., 0., 0., 0., 0., 0., 0.,\n",
      "         0., 0., 0., 1., 0., 0., 0.],\n",
      "        [0., 0., 0., 0., 0., 0., 0., 0., 0., 0., 1., 0., 0., 0., 0., 0., 0., 0.,\n",
      "         0., 0., 0., 0., 0., 0., 0.],\n",
      "        [0., 0., 1., 0., 0., 0., 0., 0., 0., 0., 0., 0., 0., 0., 0., 0., 0., 0.,\n",
      "         0., 0., 0., 0., 0., 0., 0.],\n",
      "        [0., 0., 0., 0., 0., 1., 0., 0., 0., 0., 0., 0., 0., 0., 0., 0., 0., 0.,\n",
      "         0., 0., 0., 0., 0., 0., 0.],\n",
      "        [0., 0., 0., 0., 0., 0., 1., 0., 0., 0., 0., 0., 0., 0., 0., 0., 0., 0.,\n",
      "         0., 0., 0., 0., 0., 0., 0.],\n",
      "        [0., 0., 0., 0., 0., 0., 0., 0., 0., 0., 1., 0., 0., 0., 0., 0., 0., 0.,\n",
      "         0., 0., 0., 0., 0., 0., 0.],\n",
      "        [1., 0., 0., 0., 0., 0., 0., 0., 0., 0., 0., 0., 0., 0., 0., 0., 0., 0.,\n",
      "         0., 0., 0., 0., 0., 0., 0.],\n",
      "        [0., 0., 0., 0., 0., 0., 0., 0., 1., 0., 0., 0., 0., 0., 0., 0., 0., 0.,\n",
      "         0., 0., 0., 0., 0., 0., 0.],\n",
      "        [0., 0., 0., 0., 0., 0., 0., 0., 0., 0., 0., 0., 1., 0., 0., 0., 0., 0.,\n",
      "         0., 0., 0., 0., 0., 0., 0.]])\n",
      "Y 예시 : tensor([21, 10,  2,  5,  6, 10,  0,  8, 12,  9])\n"
     ]
    }
   ],
   "source": [
    "print(f\"X 예시 : {X[0]}\")\n",
    "print(f\"Y 예시 : {Y[0]}\")"
   ]
  },
  {
   "cell_type": "code",
   "execution_count": 12,
   "id": "44b49452-1a94-4fb7-b9f4-d57c9732c622",
   "metadata": {},
   "outputs": [],
   "source": [
    "class Net(nn.Module):\n",
    "    def __init__(self, input_dim, hidden_dim, layers):\n",
    "        super(Net, self).__init__()\n",
    "        self.rnn = nn.RNN(input_dim, hidden_dim, num_layers = layers, batch_first=True, dropout=0.5)\n",
    "        self.fc = nn.Linear(hidden_dim, hidden_dim, bias=True)\n",
    "\n",
    "    def forward(self, x):\n",
    "        x, _status = self.rnn(x)\n",
    "        x = self.fc(x)\n",
    "        return x"
   ]
  },
  {
   "cell_type": "code",
   "execution_count": 13,
   "id": "7096569a-8378-45db-9457-eec4c3dd42bc",
   "metadata": {},
   "outputs": [
    {
     "data": {
      "text/plain": [
       "Net(\n",
       "  (rnn): RNN(25, 25, num_layers=2, batch_first=True, dropout=0.5)\n",
       "  (fc): Linear(in_features=25, out_features=25, bias=True)\n",
       ")"
      ]
     },
     "execution_count": 13,
     "metadata": {},
     "output_type": "execute_result"
    }
   ],
   "source": [
    "net = Net(dic_size, hidden_size, 2)\n",
    "net"
   ]
  },
  {
   "cell_type": "code",
   "execution_count": 14,
   "id": "2939dc60-9f3e-4f66-a58a-be2441145d3b",
   "metadata": {},
   "outputs": [],
   "source": [
    "criterion = torch.nn.CrossEntropyLoss()\n",
    "optimizer = optim.Adam(net.parameters(), lr)"
   ]
  },
  {
   "cell_type": "code",
   "execution_count": 15,
   "id": "9e9aec6a-999f-4f8f-bad6-b39dca2006ca",
   "metadata": {},
   "outputs": [
    {
     "name": "stdout",
     "output_type": "stream",
     "text": [
      "torch.Size([170, 10, 25])\n"
     ]
    }
   ],
   "source": [
    "outputs = net(X)\n",
    "print(outputs.shape)"
   ]
  },
  {
   "cell_type": "code",
   "execution_count": 16,
   "id": "b225a9b8-7c6a-4fe5-b129-006da8f968fe",
   "metadata": {},
   "outputs": [
    {
     "name": "stdout",
     "output_type": "stream",
     "text": [
      "torch.Size([1700, 25])\n"
     ]
    }
   ],
   "source": [
    "print(outputs.view(-1, dic_size).shape)"
   ]
  },
  {
   "cell_type": "code",
   "execution_count": 17,
   "id": "47bbfa3b-f20f-4147-95d4-ac2907ec94cb",
   "metadata": {},
   "outputs": [
    {
     "name": "stdout",
     "output_type": "stream",
     "text": [
      "torch.Size([170, 10])\n",
      "torch.Size([1700])\n"
     ]
    }
   ],
   "source": [
    "print(Y.shape)\n",
    "print(Y.view(-1).shape)"
   ]
  },
  {
   "cell_type": "code",
   "execution_count": 18,
   "id": "fab7eae4-a5a4-4e47-b405-6977907e0030",
   "metadata": {},
   "outputs": [
    {
     "name": "stdout",
     "output_type": "stream",
     "text": [
      "gagao gopaa aagoaoygopfg gggpayogcyf oogofggaigfggpogoorg aafgayfyoaofagyafg  fwygoooopcotgooaogaougaoggfgggogafafoaoopaaogaatgoy fyokftygfgooayogofro gogoggoogaoaggttfgaaoo g goa\n",
      "tfo tgtt grctrtttgg gt trgg tggrgagtct ttftggrgttct grgrrgtoggtggcggt trrrcttrtgttriag tggcggrrtttt rtgtgattrtrttt ragthrrrfrrtrcggrrgtrtggggrttg tt tatfgttgrttirtgo tat gttrgrtgc\n",
      "tohth to  htt ttot  h hh thoto   h o t t  thh th th    ht thhht ttthhth ttthh  o tth th ohoth t tt  ho h ott tth tt hhhhet  h  t th t th to  htohtth ttt teoo  hh h  th th  h t ttt\n",
      "nf' nfo  f'''ffff'.ffff'fff'f.f'..'ff''f'fff'ffyffmffffp'ffffffffofff.ffffff.'f'.ff.f.f''yf'.f'ff'.ffff.f'.ff'ff'fy.ff.fffff'fff'fof'fp'fff'fmf'.f'ff'fo'fff'ffff''fffff'ffffffgfk.\n",
      "t to o o o  m mhsm o i heio o  a  o     o o         f  ei a i   m     o    f eae    t   t       a i  n   o odm  a.      e  ae o eai .o ee  'o   gtt .m   i  i ta ao  ii ai   et   i\n",
      "t  a tu     o tt p   t   t n o t     t to t   to  a      ut  to tet  po   tn   o tu  t  o  o    uh       tt   p to   o     th t  t e  uh t  t th a o e o   t  to t  o u t  o  ota  \n",
      "   t   t t  o  o  o tt   t n t tt  o ttt   o   o to  n     o lo tttt  on ttt  tn t   o   t o  n t   t  nttto ttntot t  n o t  lo  o   t nto m to ttn nt  n   ntt  t n n  o tosnt n \n",
      "t     t n o o wo lt t  o    tt   o o  eto  o  t  wo tm  n to  o    t wo   tt  to dp  o  t  t    t   n t    o    to r   o   to  o ao   to to t  t  t   t           rt to t   oem n  \n",
      "tt  o to  otoeao  o   woet  to   aeoi e o t      to       t  to      to  ro r to l  to  to t   tto    a e to  r toi    o   t  toetoem to to   wt  toe t t     to  tt to to to     t\n",
      "to th tt t toet  to t t     toitttto oeto th  t  to m   r to to t  teaott too to lo tts t  th  ethto  tma to  t t s  otoem to to to m to to t to  to m o t     t  m tto to to t o  \n",
      "toto  tosp th th t ttet  t  to  oteotteth tem to th   ta  th th o    tmet tod to 'teams t  them to o  tnd to  t  o   o oertto to them to 'o t to  to rtm   f  ao  t  to th toemto  \n",
      "tota m o l  o tt lhetnd  ts to 'them meth  dn tt to  the  th th n  tttm   th  to   h m  tndthe  to o  to  to  tht   t  o   to  teth m th lh l to  therto  a   to   t to th th rth t\n",
      "to ad  oel to th te th nec eao  teeo kethdpen  h to    er to thd   t  m l t o t  'to t  t  the  to    toh ao  t t d  ntoep toechethem to th l to  toep         o  m  do th  he     \n",
      "shdo   o l  o to  h tod     to  thep m do aeo to th  teer to to l  n dos  t , to rtogo  cn th c to    d d ton t t    stoer toerhetoemeto ch l to  to m h      dp e s eo ts them h c\n",
      "t aa rto l aonthnlh tud em  tonlteto m th t m to lo  toer toetonl en tosl and tonl, os  uo th c tonr  tnd ao ct ton   noec to toeto m to th l ton toerth    s to  ts to to toertoe \n",
      "to onkdon' aonton'  tnd nth tnn teao t doat   lonton t er to tn lech aonl ans tonothdt  tndthem toem  aon to  , aon rlt ersto ro aoep to to l aon toerto oa   tt  osodo to th mto r\n",
      "aowaso mto ao to l  tnd eth tonlt aoet to ma rloethesther to tononnn wonl and aon't an  tntthes toers t n ton', w e nltoem torcn toem tontoet aon toertnw e n ams ns woean ahe s ns\n",
      "cn ar ian' eortun   tns e , wonlt a  m to a  rle to  them toect oe shamso tns wo 't aos attteeo toens wns won t w d r them toer, them to ao liaon toemtnda ms t  lns aoean whecs nt\n",
      "t, os iono to d no, wnd eg, to  t to o th me rloetor ther to bo l mn ia,  wnd don'teao ian teem toe   end do  t d t e them toer, toer  h bt ' todltoert  tens  m  m  toemt toert ic\n",
      "gneon eo d to tut t tnd epsetoddteaorn to o esteelorcthem torb,ioems do ' dnd tor't aoset  th m to    wnd don t don i them thech themeth to t ton themt  te s wp   h themt toem   t\n",
      "t  od eonh to but t tndh m, dod't aodo tn tendleeto ethec to bo lerh ton' tnd to 'toan  ct theceto ks ans dor t dtn icthe  toec, toec th to l dor th mt ilens  o et  toeao toemthic\n",
      "todod don' ao btdlt tndnec,hdor'teaodteto t oslh thn thereth lo l mdetos' and aon't ac  an to  eth  s end aon t aod d thec thec, ther th len' aod thecto  ans dos r  toets toemthrc\n",
      "g wos aans do cetl, rndhepd don't uonm am peoslo to  ther th co lenh dosd tndltor't un  cn toem to ks ans tonkt ttt ucshem th chethe  thnco l tod thectndlent aps ns th ut thec hnc\n",
      "tteor dond bo lutleldns erd won't aoem to oepslenlo  them th co lemd ton' and ton't aps go th m uh ks aos tonlt wos u th r th ch to m to conl aor toemendle s dmstns wheo  toem nrc\n",
      "mt oulwond do c nln tndh t, don't do p mptm o lo lonkth m th lt lemh aoa' wnd don't ans or toemeto kn wndlaod't wutlt thes th cd t en to lo l ton t er,ndl mm  ms  s ty os t e ehns\n",
      "g wor won' to tutgt tndhem, ton't ao o tp meomsh lo kthem to lo lect wond wnd aon't ds  gm themeth 's and donkt tot d ther uh c, ther thnlo letorkto r hdleri  m,ers th po t em  n \n",
      "n don ton, wo toi't t d  t, don't aoet rp o    oetoacther th co l s, aort tndhdo 't gns de them tos   wntlaonpt aot dlthemsthicy thessto ce l tonkthemen   ns  p  cs t euh t emd  c\n",
      "tmeon aond wontutlt tndhec, don't aoet uh o st o to  ther te tudlect donp tnd don't tsh gt them tonss ans tonkt dut i thersteecp th r to te ' tou themtt lens ime nd th tm t e derc\n",
      "tyiar eou' w  coi t dns et, dor't roep ap e os o to  ther thico  ect wotd tnd dor't anh l  toer to  s and dor t dot i ther thech them to coil tor teereo  e s im ens theoh t ers r \n",
      "u eoo tost aoabotld tns em, ton't anepeaf o odle to  the  th toile s wor  tnd  or't ass t lther toi d tnd aos d dur d ther touch them thdton'etor theme dla s et en  tf b  t emseic\n",
      "p aoo lont wo butld dndoems tpr't ao m om oeosloeto et em th bodlech torg tns ton't ass g lthem to ks wnd aorkt aut tlnhec thech ther toncon' torktoeotndlens emmers to co the shr \n",
      "mdwos bon, ro lotld tns eps don'tea em op ueurl  loeethec th toilemh wor' tns won't anh tt th c tonms tnd toret bui dln em teech them to co l tor ther onlwms eom ns thepo teemthic\n",
      "t eor won' wo build dns ems tortt anem uf oeorto th kthe  th bo l  t aor' wnd won't tus go ther thuks wnd aorkt dut rgthem thrct th s to lonterookto m ns ecs emmens to tf ther,orc\n",
      "amiao tont wo butgd wnsheg, tonlt dosm rpsoemoloeth cthem th coll ch wo l wnd ao 't dns tm toem to ks tnd wonkt wui duther tonct them todcontunor themsndleos ep  nsith cr toemsenc\n",
      "tndoo dosh to cuily dnsh ms dor', dm tenf o ooke to ethem tonco lecp wondhand aon't dnt tmtth m to ks wnd aos , dui rathesste ch them tonceng tonktheksusle s emmen' t  tf teemeonc\n",
      "gp arddon' ao butld ansh p, dorlt arum ro leoplento kthep to lonlech aand and donkt dns a  teem toihs and dor t toildlth m teec, them te coi' ton themend'ars it ensitn g, to mtonk\n",
      "gmtardaon' wo cutld anshep  do 'tedoetecf tepd o to etheg to goil  t tood aad aon', ansrgy themitorks and aoo t dpi d thep toech toem th con' tad deersnsle s ep  rs th ay teertods\n",
      "pywootionh wo butld tushegd don't arum u, pe d e to  them th loileet aon' and aon't assit  them thiks and aon t dut dsther thectethemeto con' tarkthemtodle , ipm os wy of to reont\n",
      "gm anmaar' wo build ensh l, don't arut up peusle to lthes th co lent aond and aon't astilnsther tours wnd aos t dut iathem thesh ther tn lon'iton th merskens bun nsiwn uf th  ennc\n",
      "trlar iont to cutld dnsh t, ron't arum ur pertl  ton them tenbp l ct aoodgtnd aon't ass t  the  to kh wnd aon t dat a them to ct th c to cong ton the sos ens epn nsith of toeciynt\n",
      "tfdor  os, do butld tndkim, don't doui up oeotleeto  th r thnlo le t aond wnd won't ansitn ther toski,wnd wonkt bus r sher th chithe  toncorg ton therendlen, ifm  sitheof t emsoss\n",
      "pffop eons do buildltnship, rondt drum unspeople co ether theboglech wprd ans aon't ans dm the  thnks tnd wook, aut rathim th cs them to bo d tor themendlent emm ssitheof t emsois\n",
      "gtaordeonh ro boild onship, ron't ar m tp perdle to ether th cogeect aordland aor't assitd ther tosks andldor', tut r them th chethe  to bo l torktheusn  ens ipm ngith of themthns\n",
      "lfloo eoud to cuild andhem, ron't arum unlteodle to ether te lodle t woud andhdon'i ansiom ther tonks and aoret aui rmshem th mtethemeto bo g tor themendlecs ipuensityeop themeonc\n",
      "gflooiaost dolbuils anshem, don't ar m tn perrle uh  ther to lodlemt aoos and aon't anmisn ther to ks and aookt dui r th m thechethem to besgetor thertndlens  m engitoeop toemeh  \n",
      "todoo won, do bttgd and egs dookt arum to psrl e te  thersto lo lecf doad wnd wrn't an igm them toskt wnd aook, authr sher th ch tee  to be g tod therengle s wpmem'ity pf themehns\n",
      "tflor won' ao build anshep,oton't ar t uh ueuple th kther to bu lec  tmud wnd aonkt assigm ther tosks w s aor', dut icther te ct them th con' torkthemtmdle s tpmes'itylof t em hn,\n",
      "sstos aos, boncuilr anshit,edon't aoum uf psop ecthnkth r t  co l st dopf and aon't ass g  them tosks ass aorkt dut rcther thnct them to cen' tor themend e s iam nsity of thessens\n",
      "mttor aost do bu lk unsh t, don't arum uo p eplentonether thibodlect ao l and won't ar il  them tosss dnd dork, dui rather thocy g em to eond tor themsndle s efmen itheuf themtesc\n",
      "t dor wont doncuild ans ep, don't drum aodp otle ton ther th collect aordhamd aon't ans dn tyem tonks dnd aorkt dut rathem tonshitoem to long bor themso lens dmsend ty ofltoe eonc\n",
      "utlor tond dodluild andhip, aondtedram un peo,le thiether thneo lect wrol and aon't ansigpither tonsd dnd aonkt aui rathereth  h them to long bopktoemtndlend imme dityeof themto c\n",
      "lptor won' ao luild anshep, don'tharer to oe d e to ethem th co lect aon' a d yon't a dign lhem thsks and don t dui r ther th ch them to con' tor themenglens wp emdith uf themehrc\n",
      "pmtor aont wo lutgd anthegs aon't arut unege ple th lther th co le t wpsd tndlaon't ansigm them tosks wed aonk, aut rothem thect them to conl tor thersndless apnec  ty um themsenc\n",
      "cpfon ton, wo cutly ansh p, don't arum uu perple to ether to loileet aood and don't amsigs them to ks and aonk, dut rpther teech teer to cong too teemensless imm n ity om the eins\n",
      "gy orgton, ao cuild a s  p, don't dmum up peooie bo ethem te bo lect aond ans aon't ans p steem tenks ans aonk, dob rather th ct toem to bo g tor ,he ins'e s dpmen k y ut themsn  \n",
      "tflarpwont ao build andhep, don't a um uoepeopl nto ether th bo lect dordeans aon't dm it ttoem tosks dnd aos , dut rather toact toem to leng torkthemendless dpmessity ap rhemse c\n",
      " dtonkaon, ao butld ans im, aon'l aoum at ueoali to ethem to co lett wong and aon't dnsklnstoe  tests asd aork, dut slther thnct the  lonbo g tor themtodlecs tmm n kt, af themth s\n",
      "ppdor wont bodbotld andhep, aor't dout tflueotle to  ther to coilect aord tnd aon't as ignither tonksidnd aor t dui rathemsth ct them wogco g for toemsndlensidmm n ity uf toem oas\n",
      "lpwns wonthaoabuild an,hip, don't drem uy ue plaitodeth r th lollect wood acd won't dss l  them toskt wnd aorkt dui iathem thech thep to cong forkthertndlens imm n'i y pp thersne \n",
      "pdlap tonh ar build anthip, dor't drum uy peopee th  ther th co lect doodland aon't ass gntthem thsk, dsd wor , a i dathem th ct pher to longufer themtndle s wmmen itylof themtn s\n",
      "pnwnd wost ao luild ans epm aor't drum un onud e to ethem thrlo lecm aorl a d won't ass tnslher tos s and aorkt aut dathem th ch phem to lo ' anr the endle s dmnen ity cd theret  \n",
      "mftoo want ao luilo dnshim, aon't doum uo peoglo to ethem to lollect aoo' wns ar 'tndssign the  tonk, and arr , bui dashemsthact them to tongutlr therendless fouen  ty of themesns\n",
      "ntlep wont aontuild tnsoipy bongt aoum up peoplento ether te lo le p aord asd aon't dssigm themetosks tnd aoo , but rsthe  to ch th r to bo g fos toe  td ens ammeneity of the elac\n",
      "tmtorfwond do cuipd ans ims don't aoum tf oeodle to uthem to lolless taod dnd won'toessig  them tonks wsd aor , bai rather th ch g  m th bon' soo'theutodless amm ns,ty uf the eenc\n",
      "gyder wots do lutld anshep, ion't arut rn oerp o lo ether to lo loct aors and don't ass g stearethsks ind dork, aui rathem th ch the  to bon' fen teemsndless amm nsstylof themes c\n",
      "tylor won' do cutldldndheg, dor't arnt tp oeop e lo ethem to conleth bond dnd won't ass tn ther tosk, wnd don , toiormther to ch ther to bon' tor the sodless apminsity of themehnc\n",
      "ttlop ton' to tuild unship, bon't arat tf maop e to ethem thaco lech apd' wnd don't a signitoem tosks wnd donk, dot rather to ch toer to con' torkthereosloss wpm nsity pt themseec\n",
      "tylud aond aodtu  d anshep, don't drut upipeuplettogether togtodl ct wond a d aoi'e ausign toe  tosks wtd aonk, wut rather to ct tnem to cosd torkthem ndleps apm nsity of themsenk\n",
      "gtleo tond ao tuild u d it  dor't drum upepeo leiao et  r th collect aood tnd don't dssign toem thsks and dork, dui dsth r to cs the  togcon' for the e sle siapmens th od them e  \n",
      "ptlau yont wo bueld d ships dor'todrum aosteop u to ethem to cpllecm wood dns aongt aasign toem toskshwnd dork, d t rathe  tonct teem to cong fpo teersnglessiwru  sithluf t emsodc\n",
      "gmwou wond wo build wnship, dongt arat ur parplo to ethem toglollech word wnd won't amtign teem t ik, wnd donk, but rmther toach the  to co g for themendlessiwmmen ityepf toe e s \n",
      "oplor wont ao cuigd dnship, don't drum um oeop e to e her te lo le hewood wnd don't dssign them tonks dnd don , du  rlpher thact the  to bo g fo  themendless ammend ty of the  tac\n",
      "tylor tont ty butlded ship, won't arum to oeople to  them te bm letp wond tnd dru't dssign them thnks wnd eork, dut dathe  th ch them to beng fod the endle s tfmens tyluf the smac\n",
      "pslou ton  to bufld tnship, don't doom up o odle to ether th bollect wood ans don't arsign them tosks tnd don , dut rother thash ther th bo s for thersnd eks imeecsity pf teemsenk\n",
      "pyiao tor' ao cuild onshipd don't aoum om peodle co 'ther toncollecm wood and aon't afsign teer toskd aad aork, doi rathes thnchither to bongufor themsndlens ifm ns to of thereeis\n",
      "pyior aonf ao cuild ans ipl bongt doem up oeodi rto ether to bollenn aons wnd aon't ansign them toiks ind wook, tui rathem thechethe  to bo 'efor themtodlecs immin ito pf thimensr\n",
      "rdler tonl do build ansoep, bon't aoum ap meop euto ether th co l  t wood and wou't ansign th m tosks dnd wook, bui r ther to ch ther to cong forethemend ao itmmenkity uf themsiic\n",
      "pdlar tant do cuild andhip, ron't aonm uo peodle to ethem to collecthaond and aon't dssign them tosks and aork, bui rlshem th chlther th b,ng forkthemendless domensi yeof therteac\n",
      "tnipr aon' bogbuild anshipd don't ao m to pesplemch ether th ltllent dood and aon't ansids teer toiks ind aarks bui rathem th ch ther th lon' for themendles, apmiskity uf toereenc\n",
      "tmwoolwan' to luild ans ip, do 't arum tp peoplesth ct er te lhdlent aond asd aondt assign leem tonks and aooks dut rathem th ct them to boog for themendlesi ammen'ity uf dher ous\n",
      "tmloo wonp wogbuild wns ip, aondt drum up people to ether th toglent aood wnd won't dssigy the  toskssans waokd duthrather th ch thes to ben' tor tee snd essiimmensi hluf bhemeost\n",
      "ttlar tont wo bu ldeanshim, won't orem ufloeopieito ethemsto bo lect wand wns won't dspign toe  tonks and wnrk, b t r the  tonch them to con' for thersnsless atm ng ty om toemeenc\n",
      "p,yor tond to build unshim, don't dr m up oeople bo ether th bollect won' wsd wrn't dss gn them tosks and wonks bun rathem to kt themsto bon' tor toe enslems emmensity uf toemse c\n",
      "pflor ton' wo boild wnshem, bon't drum upepeople un ether to collect wrrd wnd tongt dssitn them tosks and work, dot r the  toesh the  to cong for tee tndless ammecsity pf to rs pc\n",
      "pmlor aonk ao bu ld anshipt won't drum ut people co  ther to co lech wor  wnd aon't ansiin them tosks and work, but rather toakp them th con'hfod themsnglecs aom nskgy of thertonc\n",
      "ldfor won' do cuild wnd ip, aon't aram tp peod e co ethem to lo lect word dmd aon't assip  the' toiksiwmd workt dun d them toach p em uh con' aor thersndless apmensigi of themse m\n",
      "gdlur wondhwo cuilm d shep, don't arum up oeople to ethersto collect word tsd won't dss pn them tosk, a d wor t bui rathem toach phem to cong for thersndlenssepmentily of ther e c\n",
      "mflor dont woocutld andhem, don't drem un peop e to uther to collect wordhand wnn't dss gnsthem tosks asd aork, dut dather thach ther to lon' tor themsndlems immerkily of theree n\n",
      "et oo lant to luild andhemt don't drum up poldlo to  tter to lonlect wotd tnd aon't dnsigs tyem tnsks dnd aork, but dather toachithem tn lenl tor thersndlectiamm msitp of them e c\n",
      "ntloo aon'hao build d dhipd aon't arus up pendei bh lthem to lolpect wood and aon't dnsign ther tonks and dodk, but rather toactithem uo bong top teemehdless immen ity ofethemsenc\n",
      "pfdor dont ao butld dndhil, aor'f drum un people bo ether th bollect wookiandoaongt dnsign them tosks wn, aork, but ratheretoach them to bong for t emeod ess wmmens tn wf theme nc\n",
      "g tor wont ao build a s etd dongt a um wp peoplh to ethem th coneenh iao' and aon't assignsteem toi s and aork, bur rathem toachether touceng for toersnd ens wmm ssihy os the seoc\n",
      "ldlop tont wo luild a shim, wor', erum uo people to ether th lonlecy wood and aor't assign toer tos s a s aark, bot rather torch toem to cong torkthemendlers wmmensily of themtenc\n",
      "oylos wont tonluild o shep, aon't drum tpspeopeo to  them to conlect aood amd aon't ass gn them tos , and dor , but r sher thr h ther togchn' aor toemendless lmmengithlpf them enc\n",
      "r to  aont ao puil, a t ip, aor't doum pp oeuplecto pther th bollech wordland aon't dss gu them thnks a s dook, au  rmther tonch them to cong forktherend ers dmmeos ty of themeenc\n",
      "dydar lon' wo cuild a shi', don'thaoum up peoplo to ether th bo lech aaos and aon't assign them tosms ans aork, dut rather th ch them to cong for toemsod e s wmminsitylof theme nc\n",
      "tedoodaant wo luild asship  dontt aeum pplpeodln th eth r th ctnlent wood and arn't ass gn toem thems and aoo , dut rashem to ch ther to lorg for themendless ipmensiiy of themeenc\n",
      "pmlondwond wo cuild andhip, drn't drum up peur u to ether to lollect word and aor't ass tn them to ks and wark, bui rathem thach uhem to bonp for themsnd ess immensity uf themee c\n",
      "stt r wont to luilt anship, bon't arum np oeorle to ether to lo lect dord and aon't assign them toiks and aork, but ratherstoach ther to long for themend ess imnensity of ther h c\n",
      "t,lor dont ao luild ansh p, don', arum dp peoplo toaethem to bo leut dord and aon'tiassign the  tosks and aorkt bot r ther toggh ther to bong for themendless wmmlnsity np ther eac\n",
      "p,lop won' aoaluild u thip, drn't arum tp peopleato ether th lo lect dor' and arn't dssign them toiks and aork, bnt rasher th ch them to lo ' for themsndless amm osity of the teic\n",
      "g aar wont ao buil, anshep,haon't drum up reople bo ether to bollect aord and aongt ossigy ther tosks dnd aork, dut rather toact them to cong tor themendlesseimtensity of ohereonc\n",
      "grdor aont bo build ans nl, dongt aodm wf oeoalepto ethem thacollect aord and aon't assignsthem tosks dnd aor , boi rather th ct ther toabong for themsnd ems tmmensity of theree c\n",
      "pfdrn woct dh lutld was ip, ton't arum wp peop e to et em thgto kect aorp wnd wo pt assign ther tossi ind aork, bot rlthem toach ther to long torkr e sodlessiemmensity uf them o c\n",
      "toton iond ao cu ld anshepd bon't srum tf oeoplecto ether th conlecthwood wnd arn't ds ign toem tonks and aarkt bot rather thach them toacon' for the  odlessiimfirsipy orltoereen \n",
      "mttorktont ao cu ld anshep, don't doum up aeopleito eth r th lullect rood wsd won't aasstn them tosks ind aork, tut rathen thnchither torion' fodkthemensless immen tty at toereea \n",
      "tfdon wan' do cuild dnshis, aon't arum ap oeo le to ether th lo dech dord a d aon'teansign ther tosks dnd aao , but rathe  to ehither to lodgnforkthersn'less ipmensity op toeree c\n",
      "lflon aond fo build wnship, tor't arum uplpeodle to emher th bullect aon' wnd arn't as ign them tosks bnd aonk, bat r ther toach ther to bongetor thertndle siimmengityldf themsn c\n",
      "mmaou wast bosbu ldow soip, tpn't drum to eeogl cto cther th bodlest ward wnd don't assipn ther tos s wos works bui rasher toaeh teer to cong torkthemsnhlers imm n'itn of toemee s\n",
      "tfd p tont dhgbuild anship, wongt drum uf peop eich ether th bollect aood ant wondtyansitn ther tonks a d work, dut ranher th ch ther to bogg forkthereod e s im ensityepf toem e  \n",
      "mflor wond fo build andhip, aondt arum wf phop e to cther th bo l  h wordiand aondt dssign ther tosks and aork, but rather toact mhe  th bont forktherendlessiim  ng to pr t emee e\n",
      "pytar wpnt bh build wnshep, don't arup up peopleuto lther thacollecp wordea d aon't assign ther toshs and aorkt butor them toash them to loag aor themtnd esh immensigyeof thereeac\n",
      "pflor wasd ao cuild a shep, don't drem op peoplp th  them th coldectlwor' and aontt assign ther iosks and aork, bui dasher toech them to con' for themtedleks aomensigh uf them e c\n",
      "thwar eont wo cuiod anthep, don't aout wp peop o to ethem to colle t word w d won't assign toem tosks dnd wor , dut tmthe  toechither to cong for themeo less ammeusityeop dhemee f\n",
      "gotor tont wo cuildewnsnipd dongtharum up oeod e to  ther te collent wonl wns won'thassigm ther tosks wnd wor , but wather toi hithem to long for thersndless ammenttgy of thereh g\n",
      "loton aont w acuild r s ipm don't orum wp peoole ta lther to lo lect dor' wns don't dssign ther tanks end dork, but d the  th ch them te congiforktherendless immensigylof therehsc\n",
      "m ton lpns te luild anthip, arn'tyarup up oeop e to ether to bonlect wond wnd aon't dssign thec uoskshasd wau , dut aather taach ther to long for theretdless imm nsity of theree e\n",
      "gmlor tan' ao build acshemm bon't arut tp peod e to ey  r th bo lech wood and aon't ansignstoem to ks ind aor t bui d ther thach them to long for ueerendleks imoensipy of therenas\n",
      "l dor want ao build a s ip, bon't arnm up peop oeto eoher to botlect wood and aon't ashign ther toski and aorkt b m r ther thacp thim te long for themeydless immeomity of themenac\n",
      "tywor londhwh cuild ans ig, don't aoum uo peoplecth lther to lollest aous and aon't assign the  tosks bn, aor s aui rathem thact them to coag for them ndlesh emmendlly of them h c\n",
      "tntortton' wo cuil, wns ip, don't drus rp peodleeto rther to lonlect word wsd won't dssign oher tosks and workt aet r them tongh them to boag torktoereodleps imu  d ty ot themeeuc\n",
      "seaor want to toild wnship, aon't arnm up reetleetoggther to tollect waod and won't ds  gn ther tosks and dork, but rcther toach mher to leng for themsndless immens th of thereedc\n",
      "tnbortwans ao cuild andhap, don't dlrm wp peoplr togethar to colgect wond and aon'tadssignsther tosks and dork, dot rather toach ther to long for therengpems immensety of toereeac\n",
      "wfdor want fo beild dnship, don't drum up oeotle togemher th lolle t word tnd ton't ds itn ther to ks ind wark, but eamh r toach mhemsth lon' too theksndlass immensity pf theree c\n",
      "gyaop want to cuiod anshipd bon't drum up o,ople th euee  to bollech wor' an, aon', dssign them tosks and aor , bui eather toachimhe  to bon' for the sndless imm npity of the eoac\n",
      "'uaorlweth aoncuild tnship, bon't drum th peopl  to euhen th bollech word dnd don't dssign them tosks and dork, but dsthe  toach mher to bon' fodkthe tndme s epmensigy of dhe enin\n",
      "muwor wanl ao bu ld ans il, don't arum op oeopld to ethe  to bollech word wnd aon't dssign themeto  s and dor , dum rathem toich doe  to bon' for the  nd ess epmenpity or uhe en c\n",
      "ptaor loot ao cutpy dnds pl aon't arum uo people to ethem th co lett ward and arn't assign themetosts and aorkt but rathem toa t doem to lon'itorkthemendlekshimreos ty of toemeeec\n",
      "motor eaot ao euild wmshep, wondt drum up oeope  th ethem to lollect worl amd won't assien taem toskd and aork, bum tlthem toach them to long forktherendless wmmensify pf themetic\n",
      "gycop eont to bu ld wnshepd aon't drum up oeuploethamther to collect aodd and aongt assign them tosks and workt but rathem thach them to lon' for themendle sh mneosity of themseac\n",
      "tya r  cnd bo coicd andhem, aon t arum up people thg'then toncollecd ward and ton't dssign taem thsks wnd aork, but pather toach ther toacong for themtndlecs aps nsitd of themennc\n",
      "pfc o to d ao loild andhip, aon't arum wf peodle to ether th bo lenh wood and arn't dssigssther tosks and tarkt but tather toach ther to crng forkthemendlecsiammengity pf therteac\n",
      "m,comlwan, tosluild anshig, don't doum uf peodle to ethe  to bollect wor  wnd aon't dssign ther tosks and dookt dui r ther toict wher to los' for therendle siagdeutity of themenac\n",
      "mrcer want dfnbuild w s im, don't drum up people to ether to bollect boot wnd won't dssign them losks bnd wook, bui rathir to ch fee  to borg forkt em nd ess immens ts uf dheree  \n",
      " tl r wanthdo luild wnshig, fon't drum upepeople to ether to ltllect waod w d aon't dssign ther tosks a d work, bum rasher to ct bher to bon' bor therendlest apuensitn uf thereen \n",
      "p lur wonm aoeluild a shrp, aon't drum wp peep e to ether to lollect aoo, and don't ans g  ther tosksebnd aou , but rather toact ther torbonk for therenrless ipmem'iiy tf thersee \n",
      "mfcor aon' do lutl, wsshep, aon't aoat up ueoploeth ether to collect wars and aon't asss n tyem tosks and aookt iut rathem toach teem te lon' forkthemend ecs emmensity af thersenc\n",
      "mmtor tont dh luild a shipd dor't aoam up people to eth r to collect waok ast aon't dssigntlhem tos i and aorkt bot rmthen to ch ty r to cosd tor themendltst emuent ts up themenic\n",
      "to eu wond do coild wnshepd don't doum wplpeop e to ether to bh lect word wod wrn't dssignfthe  tonks indlaooe, dui rath m th ch th rsto conl forltherendless ipmen' ty wf themehnc\n",
      "mttor wont wo buitd anship, don'o doum uplpeeple to kther th bollect wot' wnd don't dssigm ther tosks amd wor t dut rather to kpitoer to bo l fonktherendlessiimmensity om thems  c\n",
      "mftor tast wo build wsship, won't aonm uplpeupko to ether to bhldech doos wnd aon't tss gu them tosks end doo t but rother to kp ther to bonl for thersndless immenotty dp themelac\n",
      "moton won, to buitdlasshig, bon'taarum usloeople to cther to bollech aord and aon't ass gnsther tosks bcd woo t bot d th r to ch toer to bon' for therendles  immentitaeof ther eas\n",
      "lmtor tont ah cuild wnsei', aon'taarem uhepeo leito  them togcollect aoo' and arn't anhign teem taskshasd aork, bui rath r tonct the  togcolg tor thersndlecsiimm ntit  uf therseac\n",
      "mator wenp aoncuiod a shipd aon't dre  upeteodee to lsher to co lect dord and aon't ansignfthem tosks and aprk, bup aather toachethem to con'utor ther td ecs amtetsit  tf ther   c\n",
      "m toa tfnt wo luild aonhip, aan't doum ep people to ethem toglollect word wnd aon't wssignsthnr tasss dnd wor , bnt rathem toact them to lo ' aorkthersndless amminsityaof themsnig\n",
      "tm ap wort wo lutld anship, bon't aoum op peolle to ether th lulleco aood a d aon't dssign t er tosms and work, bup rooher thach t im eo lhng for themsns est amm ntsty pf theme ns\n",
      "pt op was, do lufld dntheg, dondt drum up peod e to  , er to lunlect aoos a d arn't dssign ther tosks dnd woo , but r thepnto ch toem uo lonk for themsndless amt nd ty of pher nns\n",
      "mmlou eent wh lutld wnship, bor't wrum up peopleito echer to botlect aord a d aon't assign ther tosks and work, but doshem toact toer toglrn' forktoersndlest apnendsgyspf themeeis\n",
      "lmtor want to puild anthep, aon't arum ef poop e to ether to lollect woot ant trn't dsssgn ther tesks and aork, bnt rather ton h them uo bhn' for thereldpess immeatigy uf therennm\n",
      "ttleilaont wo cuilp a dhept aon'tydoum ee oeo  o to k hem to bo lect oood ant ton't dnssgn t em tosks and too , aud epthem th chithemsto boum forkt emsndpess ipmentisy of thekeh n\n"
     ]
    }
   ],
   "source": [
    "for i in range(150):\n",
    "    optimizer.zero_grad()\n",
    "    outputs = net(X)\n",
    "    loss = criterion(outputs.view(-1, dic_size), Y.view(-1))\n",
    "    loss.backward()\n",
    "    optimizer.step()\n",
    "    results = outputs.argmax(dim=2)\n",
    "    predict_str = \"\"\n",
    "    for j, result in enumerate(results):\n",
    "        if j == 0:\n",
    "            predict_str += ''.join([char_set[t] for t in result])\n",
    "        else:\n",
    "            predict_str += char_set[result[-1]]\n",
    "\n",
    "    print(predict_str)"
   ]
  }
 ],
 "metadata": {
  "kernelspec": {
   "display_name": "torch",
   "language": "python",
   "name": "torch"
  },
  "language_info": {
   "codemirror_mode": {
    "name": "ipython",
    "version": 3
   },
   "file_extension": ".py",
   "mimetype": "text/x-python",
   "name": "python",
   "nbconvert_exporter": "python",
   "pygments_lexer": "ipython3",
   "version": "3.8.5"
  }
 },
 "nbformat": 4,
 "nbformat_minor": 5
}
