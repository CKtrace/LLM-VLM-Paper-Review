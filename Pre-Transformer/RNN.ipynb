{
 "cells": [
  {
   "cell_type": "code",
   "execution_count": 1,
   "id": "a4227d6e-045e-4591-85bf-2ceff7f15ab7",
   "metadata": {},
   "outputs": [],
   "source": [
    "import torch\n",
    "import torch.nn as nn\n",
    "import torch.optim as optim\n",
    "import numpy as np"
   ]
  },
  {
   "cell_type": "code",
   "execution_count": 2,
   "id": "3406e194-c1aa-4aaf-9fc7-31552853a1ef",
   "metadata": {},
   "outputs": [],
   "source": [
    "sentence = (\"if you want to build a ship, don't drum up people together to \"\n",
    "            \"collect wood and don't assign them tasks and work, but rather \"\n",
    "            \"teach them to long for the endless immensity of the sea.\")"
   ]
  },
  {
   "cell_type": "code",
   "execution_count": 3,
   "id": "a3edd487-ea8a-4784-bbb6-f40ba2a49f80",
   "metadata": {},
   "outputs": [
    {
     "data": {
      "text/plain": [
       "\"if you want to build a ship, don't drum up people together to collect wood and don't assign them tasks and work, but rather teach them to long for the endless immensity of the sea.\""
      ]
     },
     "execution_count": 3,
     "metadata": {},
     "output_type": "execute_result"
    }
   ],
   "source": [
    "sentence"
   ]
  },
  {
   "cell_type": "code",
   "execution_count": 4,
   "id": "cbaed181-dfb8-419a-a026-9dd5e6f841b2",
   "metadata": {},
   "outputs": [
    {
     "name": "stdout",
     "output_type": "stream",
     "text": [
      "{',': 0, 'i': 1, 'c': 2, 'm': 3, 'l': 4, 'g': 5, 'u': 6, 't': 7, 'e': 8, 'f': 9, '.': 10, 'k': 11, 'b': 12, 'o': 13, 'd': 14, 'y': 15, ' ': 16, 'h': 17, 'a': 18, 's': 19, 'n': 20, 'p': 21, 'w': 22, 'r': 23, \"'\": 24}\n"
     ]
    }
   ],
   "source": [
    "char_set = list(set(sentence))\n",
    "char_dic = {c: i for i, c in enumerate(char_set)}\n",
    "print(char_dic)"
   ]
  },
  {
   "cell_type": "code",
   "execution_count": 5,
   "id": "13e4ace0-beab-41e1-8e4a-cf5864189c82",
   "metadata": {},
   "outputs": [
    {
     "name": "stdout",
     "output_type": "stream",
     "text": [
      "문자 집합 크기 : 25\n"
     ]
    }
   ],
   "source": [
    "dic_size = len(char_dic)\n",
    "print(f\"문자 집합 크기 : {dic_size}\")"
   ]
  },
  {
   "cell_type": "code",
   "execution_count": 6,
   "id": "4921fe21-5f4f-4429-be36-6500a50f70f9",
   "metadata": {},
   "outputs": [],
   "source": [
    "hidden_size = dic_size\n",
    "sequence_length = 10\n",
    "lr = 1e-1"
   ]
  },
  {
   "cell_type": "code",
   "execution_count": 7,
   "id": "b943761a-75f2-480f-89c7-dcfaf6d1a8cc",
   "metadata": {},
   "outputs": [
    {
     "name": "stdout",
     "output_type": "stream",
     "text": [
      "if you wan -> f you want\n",
      "f you want ->  you want \n",
      " you want  -> you want t\n",
      "you want t -> ou want to\n",
      "ou want to -> u want to \n",
      "u want to  ->  want to b\n",
      " want to b -> want to bu\n",
      "want to bu -> ant to bui\n",
      "ant to bui -> nt to buil\n",
      "nt to buil -> t to build\n",
      "t to build ->  to build \n",
      " to build  -> to build a\n",
      "to build a -> o build a \n",
      "o build a  ->  build a s\n",
      " build a s -> build a sh\n",
      "build a sh -> uild a shi\n",
      "uild a shi -> ild a ship\n",
      "ild a ship -> ld a ship,\n",
      "ld a ship, -> d a ship, \n",
      "d a ship,  ->  a ship, d\n",
      " a ship, d -> a ship, do\n",
      "a ship, do ->  ship, don\n",
      " ship, don -> ship, don'\n",
      "ship, don' -> hip, don't\n",
      "hip, don't -> ip, don't \n",
      "ip, don't  -> p, don't d\n",
      "p, don't d -> , don't dr\n",
      ", don't dr ->  don't dru\n",
      " don't dru -> don't drum\n",
      "don't drum -> on't drum \n",
      "on't drum  -> n't drum u\n",
      "n't drum u -> 't drum up\n",
      "'t drum up -> t drum up \n",
      "t drum up  ->  drum up p\n",
      " drum up p -> drum up pe\n",
      "drum up pe -> rum up peo\n",
      "rum up peo -> um up peop\n",
      "um up peop -> m up peopl\n",
      "m up peopl ->  up people\n",
      " up people -> up people \n",
      "up people  -> p people t\n",
      "p people t ->  people to\n",
      " people to -> people tog\n",
      "people tog -> eople toge\n",
      "eople toge -> ople toget\n",
      "ople toget -> ple togeth\n",
      "ple togeth -> le togethe\n",
      "le togethe -> e together\n",
      "e together ->  together \n",
      " together  -> together t\n",
      "together t -> ogether to\n",
      "ogether to -> gether to \n",
      "gether to  -> ether to c\n",
      "ether to c -> ther to co\n",
      "ther to co -> her to col\n",
      "her to col -> er to coll\n",
      "er to coll -> r to colle\n",
      "r to colle ->  to collec\n",
      " to collec -> to collect\n",
      "to collect -> o collect \n",
      "o collect  ->  collect w\n",
      " collect w -> collect wo\n",
      "collect wo -> ollect woo\n",
      "ollect woo -> llect wood\n",
      "llect wood -> lect wood \n",
      "lect wood  -> ect wood a\n",
      "ect wood a -> ct wood an\n",
      "ct wood an -> t wood and\n",
      "t wood and ->  wood and \n",
      " wood and  -> wood and d\n",
      "wood and d -> ood and do\n",
      "ood and do -> od and don\n",
      "od and don -> d and don'\n",
      "d and don' ->  and don't\n",
      " and don't -> and don't \n",
      "and don't  -> nd don't a\n",
      "nd don't a -> d don't as\n",
      "d don't as ->  don't ass\n",
      " don't ass -> don't assi\n",
      "don't assi -> on't assig\n",
      "on't assig -> n't assign\n",
      "n't assign -> 't assign \n",
      "'t assign  -> t assign t\n",
      "t assign t ->  assign th\n",
      " assign th -> assign the\n",
      "assign the -> ssign them\n",
      "ssign them -> sign them \n",
      "sign them  -> ign them t\n",
      "ign them t -> gn them ta\n",
      "gn them ta -> n them tas\n",
      "n them tas ->  them task\n",
      " them task -> them tasks\n",
      "them tasks -> hem tasks \n",
      "hem tasks  -> em tasks a\n",
      "em tasks a -> m tasks an\n",
      "m tasks an ->  tasks and\n",
      " tasks and -> tasks and \n",
      "tasks and  -> asks and w\n",
      "asks and w -> sks and wo\n",
      "sks and wo -> ks and wor\n",
      "ks and wor -> s and work\n",
      "s and work ->  and work,\n",
      " and work, -> and work, \n",
      "and work,  -> nd work, b\n",
      "nd work, b -> d work, bu\n",
      "d work, bu ->  work, but\n",
      " work, but -> work, but \n",
      "work, but  -> ork, but r\n",
      "ork, but r -> rk, but ra\n",
      "rk, but ra -> k, but rat\n",
      "k, but rat -> , but rath\n",
      ", but rath ->  but rathe\n",
      " but rathe -> but rather\n",
      "but rather -> ut rather \n",
      "ut rather  -> t rather t\n",
      "t rather t ->  rather te\n",
      " rather te -> rather tea\n",
      "rather tea -> ather teac\n",
      "ather teac -> ther teach\n",
      "ther teach -> her teach \n",
      "her teach  -> er teach t\n",
      "er teach t -> r teach th\n",
      "r teach th ->  teach the\n",
      " teach the -> teach them\n",
      "teach them -> each them \n",
      "each them  -> ach them t\n",
      "ach them t -> ch them to\n",
      "ch them to -> h them to \n",
      "h them to  ->  them to l\n",
      " them to l -> them to lo\n",
      "them to lo -> hem to lon\n",
      "hem to lon -> em to long\n",
      "em to long -> m to long \n",
      "m to long  ->  to long f\n",
      " to long f -> to long fo\n",
      "to long fo -> o long for\n",
      "o long for ->  long for \n",
      " long for  -> long for t\n",
      "long for t -> ong for th\n",
      "ong for th -> ng for the\n",
      "ng for the -> g for the \n",
      "g for the  ->  for the e\n",
      " for the e -> for the en\n",
      "for the en -> or the end\n",
      "or the end -> r the endl\n",
      "r the endl ->  the endle\n",
      " the endle -> the endles\n",
      "the endles -> he endless\n",
      "he endless -> e endless \n",
      "e endless  ->  endless i\n",
      " endless i -> endless im\n",
      "endless im -> ndless imm\n",
      "ndless imm -> dless imme\n",
      "dless imme -> less immen\n",
      "less immen -> ess immens\n",
      "ess immens -> ss immensi\n",
      "ss immensi -> s immensit\n",
      "s immensit ->  immensity\n",
      " immensity -> immensity \n",
      "immensity  -> mmensity o\n",
      "mmensity o -> mensity of\n",
      "mensity of -> ensity of \n",
      "ensity of  -> nsity of t\n",
      "nsity of t -> sity of th\n",
      "sity of th -> ity of the\n",
      "ity of the -> ty of the \n",
      "ty of the  -> y of the s\n",
      "y of the s ->  of the se\n",
      " of the se -> of the sea\n",
      "of the sea -> f the sea.\n"
     ]
    }
   ],
   "source": [
    "x_data = []\n",
    "y_data = []\n",
    "\n",
    "for i in range(0, len(sentence) - sequence_length):\n",
    "    x_str = sentence[i:i+sequence_length]\n",
    "    y_str = sentence[i+1:i+sequence_length+1]\n",
    "    print(f\"{x_str} -> {y_str}\")\n",
    "\n",
    "    x_data.append([char_dic[c] for c in x_str])\n",
    "    y_data.append([char_dic[c] for c in y_str])"
   ]
  },
  {
   "cell_type": "code",
   "execution_count": 8,
   "id": "56fa6cc6-4db6-4848-a386-f20e8bf1c755",
   "metadata": {},
   "outputs": [
    {
     "name": "stdout",
     "output_type": "stream",
     "text": [
      "[1, 9, 16, 15, 13, 6, 16, 22, 18, 20]\n",
      "[9, 16, 15, 13, 6, 16, 22, 18, 20, 7]\n"
     ]
    }
   ],
   "source": [
    "print(x_data[0])\n",
    "print(y_data[0])"
   ]
  },
  {
   "cell_type": "code",
   "execution_count": 9,
   "id": "dcedf5ca-879d-470c-9bde-382300a37211",
   "metadata": {},
   "outputs": [
    {
     "name": "stderr",
     "output_type": "stream",
     "text": [
      "C:\\Users\\kck\\AppData\\Local\\Temp\\ipykernel_2132\\3125409070.py:1: UserWarning: Creating a tensor from a list of numpy.ndarrays is extremely slow. Please consider converting the list to a single numpy.ndarray with numpy.array() before converting to a tensor. (Triggered internally at C:\\actions-runner\\_work\\pytorch\\pytorch\\builder\\windows\\pytorch\\torch\\csrc\\utils\\tensor_new.cpp:281.)\n",
      "  x_one_hot = torch.FloatTensor([np.eye(dic_size)[x] for x in x_data])\n"
     ]
    }
   ],
   "source": [
    "x_one_hot = torch.FloatTensor([np.eye(dic_size)[x] for x in x_data])\n",
    "X = x_one_hot\n",
    "Y = torch.LongTensor(y_data)"
   ]
  },
  {
   "cell_type": "code",
   "execution_count": 10,
   "id": "61394554-c4f1-4b4a-a167-1b2300ed6bd3",
   "metadata": {
    "scrolled": true
   },
   "outputs": [
    {
     "name": "stdout",
     "output_type": "stream",
     "text": [
      "torch.Size([170, 10, 25])\n",
      "torch.Size([170, 10])\n"
     ]
    }
   ],
   "source": [
    "print(X.shape)\n",
    "print(Y.shape)"
   ]
  },
  {
   "cell_type": "code",
   "execution_count": 11,
   "id": "ccf5f3ba-d4c2-46cc-b155-41d47e636621",
   "metadata": {},
   "outputs": [
    {
     "name": "stdout",
     "output_type": "stream",
     "text": [
      "X 예시 : tensor([[0., 1., 0., 0., 0., 0., 0., 0., 0., 0., 0., 0., 0., 0., 0., 0., 0., 0.,\n",
      "         0., 0., 0., 0., 0., 0., 0.],\n",
      "        [0., 0., 0., 0., 0., 0., 0., 0., 0., 1., 0., 0., 0., 0., 0., 0., 0., 0.,\n",
      "         0., 0., 0., 0., 0., 0., 0.],\n",
      "        [0., 0., 0., 0., 0., 0., 0., 0., 0., 0., 0., 0., 0., 0., 0., 0., 1., 0.,\n",
      "         0., 0., 0., 0., 0., 0., 0.],\n",
      "        [0., 0., 0., 0., 0., 0., 0., 0., 0., 0., 0., 0., 0., 0., 0., 1., 0., 0.,\n",
      "         0., 0., 0., 0., 0., 0., 0.],\n",
      "        [0., 0., 0., 0., 0., 0., 0., 0., 0., 0., 0., 0., 0., 1., 0., 0., 0., 0.,\n",
      "         0., 0., 0., 0., 0., 0., 0.],\n",
      "        [0., 0., 0., 0., 0., 0., 1., 0., 0., 0., 0., 0., 0., 0., 0., 0., 0., 0.,\n",
      "         0., 0., 0., 0., 0., 0., 0.],\n",
      "        [0., 0., 0., 0., 0., 0., 0., 0., 0., 0., 0., 0., 0., 0., 0., 0., 1., 0.,\n",
      "         0., 0., 0., 0., 0., 0., 0.],\n",
      "        [0., 0., 0., 0., 0., 0., 0., 0., 0., 0., 0., 0., 0., 0., 0., 0., 0., 0.,\n",
      "         0., 0., 0., 0., 1., 0., 0.],\n",
      "        [0., 0., 0., 0., 0., 0., 0., 0., 0., 0., 0., 0., 0., 0., 0., 0., 0., 0.,\n",
      "         1., 0., 0., 0., 0., 0., 0.],\n",
      "        [0., 0., 0., 0., 0., 0., 0., 0., 0., 0., 0., 0., 0., 0., 0., 0., 0., 0.,\n",
      "         0., 0., 1., 0., 0., 0., 0.]])\n",
      "Y 예시 : tensor([ 9, 16, 15, 13,  6, 16, 22, 18, 20,  7])\n"
     ]
    }
   ],
   "source": [
    "print(f\"X 예시 : {X[0]}\")\n",
    "print(f\"Y 예시 : {Y[0]}\")"
   ]
  },
  {
   "cell_type": "code",
   "execution_count": 12,
   "id": "44b49452-1a94-4fb7-b9f4-d57c9732c622",
   "metadata": {},
   "outputs": [],
   "source": [
    "class Net(nn.Module):\n",
    "    def __init__(self, input_dim, hidden_dim, layers):\n",
    "        super(Net, self).__init__()\n",
    "        self.rnn = nn.RNN(input_dim, hidden_dim, num_layers = layers, batch_first=True)\n",
    "        self.fc = nn.Linear(hidden_dim, hidden_dim, bias=True)\n",
    "\n",
    "    def forward(self, x):\n",
    "        x, _status = self.rnn(x)\n",
    "        x = self.fc(x)\n",
    "        return x"
   ]
  },
  {
   "cell_type": "code",
   "execution_count": 13,
   "id": "7096569a-8378-45db-9457-eec4c3dd42bc",
   "metadata": {},
   "outputs": [
    {
     "data": {
      "text/plain": [
       "Net(\n",
       "  (rnn): RNN(25, 25, num_layers=2, batch_first=True)\n",
       "  (fc): Linear(in_features=25, out_features=25, bias=True)\n",
       ")"
      ]
     },
     "execution_count": 13,
     "metadata": {},
     "output_type": "execute_result"
    }
   ],
   "source": [
    "net = Net(dic_size, hidden_size, 2)\n",
    "net"
   ]
  },
  {
   "cell_type": "code",
   "execution_count": 14,
   "id": "2939dc60-9f3e-4f66-a58a-be2441145d3b",
   "metadata": {},
   "outputs": [],
   "source": [
    "criterion = torch.nn.CrossEntropyLoss()\n",
    "optimizer = optim.Adam(net.parameters(), lr)"
   ]
  },
  {
   "cell_type": "code",
   "execution_count": 15,
   "id": "9e9aec6a-999f-4f8f-bad6-b39dca2006ca",
   "metadata": {},
   "outputs": [
    {
     "name": "stdout",
     "output_type": "stream",
     "text": [
      "torch.Size([170, 10, 25])\n"
     ]
    }
   ],
   "source": [
    "outputs = net(X)\n",
    "print(outputs.shape)"
   ]
  },
  {
   "cell_type": "code",
   "execution_count": 16,
   "id": "b225a9b8-7c6a-4fe5-b129-006da8f968fe",
   "metadata": {},
   "outputs": [
    {
     "name": "stdout",
     "output_type": "stream",
     "text": [
      "torch.Size([1700, 25])\n"
     ]
    }
   ],
   "source": [
    "print(outputs.view(-1, dic_size).shape)"
   ]
  },
  {
   "cell_type": "code",
   "execution_count": 17,
   "id": "47bbfa3b-f20f-4147-95d4-ac2907ec94cb",
   "metadata": {},
   "outputs": [
    {
     "name": "stdout",
     "output_type": "stream",
     "text": [
      "torch.Size([170, 10])\n",
      "torch.Size([1700])\n"
     ]
    }
   ],
   "source": [
    "print(Y.shape)\n",
    "print(Y.view(-1).shape)"
   ]
  },
  {
   "cell_type": "code",
   "execution_count": 18,
   "id": "fab7eae4-a5a4-4e47-b405-6977907e0030",
   "metadata": {},
   "outputs": [
    {
     "name": "stdout",
     "output_type": "stream",
     "text": [
      "syytasyyaayyyasystyytysyyyyayyaayyyyattyytyyaaatatyyaaayaayyasytataayyyaadyyatyyaayyyyatyysyyyattyyttyyystyyaatyyysatytayaayyaaayyysattyysyaaayyyatyyatattyatyyyttatyyyasyayysatyaa\n",
      "                                                                                                                                                                                   \n",
      "ttt  tt  t t tt tt  ttt ttt ttttt t tt   tt  t   t t ttt tt  tt    ttt tt   t ttt t t t t ttt  tt  tttt t tt  t t ttt tt  tt  tt   t  t  t t  t ttt t t t t ttt  tt  t t   t t t tt\n",
      "tyy.dl  d.d......yy.....d...d.y.......dy....bdyy.....d...y...yy.ybd.......yd......y.....d.........y...ywd.y.....yy....y.y.d.y.....yd.bw.....bad.......y.dyd...d.ybdby...ydbdy......\n",
      "totudkd.dlomlllllpolllludllpdlllalmlolepolpppololmlmuoluuumuppnppoomlmmlpupollamopdlppdldpolullmm pulpp.olulllhluuolmpoooldluuouppnnlluamllppoulllmoopdodlol oepdpolummlpnooomlllml\n",
      "llaaaooo ooooeooo ooeooooooooooodoeooo ooooo ooohtoooeooo oonooooooeoeoeo oooo,oooooooooooooooodoooooooo oeoo ootoootoooo  oooooooooo oooooo oooeoooo eoooooooo    ooooooo ooootooo\n",
      " yto              t   t e   t t w t          d e t t t        t      t e      t t t t       o  wd         t e w t t t t            e t          e     t t t t t      t     t d t   \n",
      " ot e               t t e t t r t t e  t     d e t e e   t    e      t e    t t e t t e        tt       e t e t t t t e   t   t  t e t          e t   t t e t e   e        t t t e \n",
      " tt e t dt t  t  t  t t e t t t t t  t t    dt e t d t  tt  rtt t  t t    t t t t t t e  e t  tt   t  t t t e t t t t te  t  kt  t  tt  tt  t t e t d t t e t t t t tte t  t d t dt\n",
      " ot d t rt t e t tt d d e d d t t d tt t t d t d t e t e tt r t t  tot e tt t d t t t t t  t   tt ttt d d t t t d t d t e tt  tt doe t  t t t t e t e t d d t d t e tte  t d e d d \n",
      " oi   to tot e st t t t e t t e t t st t t t t e toe to  ttoett to totoe  t t t e t t sos  to  ttostt t t t e t t t t soe tto tt toe ttoe t tos e toe toe t tos s st s s t t e to t\n",
      " ot   to tot e o  t t t e t t e t t et t d t t n toe to  ttoett to totoe  t t t n t t eot  to  ttoe t t t t e t t t t toe tto t  toe t oe t tot e t e t t t to     t t elt t e to t\n",
      "lot  dto toaoalo le t t elt t elt t  p a d   tlt toe  o   to lo to toto l t t t t totoa to toe  to lt t t to  t t t t to   to to toe  toelo tot e t e tod e toa   t   ealo toe to  \n",
      "l a  dth to o toa e t t ept toe t t  t t  t  tlt to     e toelo to t to t t t t n totoe  o toe  to  e t   to  t t t    he  to  o the  toele dot e t e to  e to        oeto toe to  \n",
      "l a  dth toto loa e t t ept to, tot ed t r t g t torlt e  torle t rt to r t t t n t t e th teer to  e t d to  t t t t to r to te toer torle dot e toe t e e t t e t   oeto toe t   \n",
      "ledhedto todoedodp, todoept don'tod ed toiti dph tor'ther th te to t dh t toi d n'tosoeite ther th th doi do  t todod th t th thether th thetodoe toertoi e thit  tiitoite toerteem\n",
      "l dh dto todhetod n t doemtodon'toao t doitioilo toe sher toeto toet dh s tod d n'toaoeimhither theth dod dh rt d dodother th th dher toethed toe toertod n shi  sr otoeto toertoe \n",
      "l dondto t toel d n t t elt d n't t nl t dsi dln toe t e sto ln t st to s t t t n't t t todtoer t slt t t to kt t t d ther to ce t em t rlo t t n t n t d e t t s t  todlo toemt e \n",
      "l doogto todo todlt t doipt don't dont todti dlo to  them th lo to t to t t d d n't dotipogthem th tt t d do kt todot th m to co toem th lo dotog toemt d d thip st ttodto toemtotp\n",
      "l dongth thshnt tle thioept don'thd  t to dh gth themthem th lo th t th g tng t n'todheimegthem th  t thg th kt toiot them thrch gher th lhng to  themte  h shim sh  th to thertoem\n",
      "lodonlth d ahelodld d doep, don'todout aodooodle to  ther th lo to t do g a d don'tod sepo ther to  , and do kt aodoa ther to ch pher to lonl to  thersnd o thip sn  to on thersoe \n",
      "l don to d ao lodld a doep, don't d ut ao aoodle to  ther to lo doet do   a d d n't a  iio toer to  , a d do  t a d a toem to ce teer to lonl to  toersnd o tsip un  todon doers e \n",
      "l don to d th l ild a toel, d n't d ut ap dongle to mthem to lo te t do   a d d n't d siin them to  , a d do  t a d a toem to ce teem to lo l tor themsnd o tsim uns todof thert e \n",
      "l doo to d th loild antodl, don't a ut as dongle th  ther to lolte t do g dnd don't ansimo them to si and doukt dodod them to co them to lo lhtor thertndld tsim uns todon thert ss\n",
      "t doolto d th coild antoep, don't t ut ds dontle th  ther th co te t do g dnd don't tnsimh them to ss andodo k, aod t them to co ther to co l tor themsnd e tsim uns todon thers ss\n",
      "b doaltond torcudld a toep, don't t ut ap dootle th  ther to colee t do g and don't ansimo ther to  t and dork, tua t ther to co ther to lonl tor thersnd e tsim  ns todon thers n \n",
      "b doaltond torbuild a toip, don't a ut dp poogle to  ther torlonee t doog and don't ansimo ther to ki and dork, aua t ther to co ther to long tor thersndld tsimminsimo af thers n \n",
      "g doaltond thrbuild a toip, don't a ut ap poople th  ther to lolte t doud and d n't ansimo them to ki and do k, aua a them to ch ther to long sor thersndla ssimmensito of thers ns\n",
      "g doo to d th build d toip, don't a ut ap peadle th  ther to colte t doud and don't ansimo the  to  s and douk, bod t them to ch the  to beng to  the sndle tsimmensito of the she \n",
      "g dooltond togcuild a toip, don't a um ap poogle to  them to lollent dool and don't ansimo them to ki and dork, bod t them to ch them to long tor themsndle tsimmensito of thershnl\n",
      "g doa tond torcuild a toip, don't a um ap poople to  ther to collect tool and don't assigo ther to ks and dork, bud r ther to ch ther to cong for the sndle ssimmensito of the shn \n",
      "g doo tond to cuild a soip, don't a um ap poople to  ther to collect aoud and don't assign them tosks and dork, but r ther to ch ther to conghfor thersndle ssimmensimo of the shns\n",
      "g doo tont to cuild a soip, don't a um ap people to  them to collect aood and don't assimn them tosks and dork, but r them to ch them to conghfor thersndlesssimmensimo of the shns\n",
      "g doo to t to build d teip, dor't a um ap po tle to  ther to collect dood and don't assimn ther to ks and douk, but r ther to ch ther to congcfor the sndle ssimmensito of the shns\n",
      "g doo tond torcuild ansoip, don't a um ap peaplestog them togcollect dood and don't assign them tosss and dork, but r them tonch teem to congcfor thersndlesssimmensito of the shss\n",
      "godoa wont to build d teip, don't a um ap peodle to  ther to bollect ao d and don't a sign ther to ks and dork, but r ther toach ther to bong for the sndless immens to of the shns\n",
      "godoa wont to cuild a teip, don't a um wp peaple to  them to bollect dood and don't assign them toiks and dork, but r them toach teem to bong for the sndlesssimmensity of the sens\n",
      "godooltont torcuild a ship, don't arum wp peaple tog ther to bollect wood and don't assign them tosks and dork, but aather toach them to bong for the sndlesssimmensity of the thns\n",
      "godorlwont torbuild a ship, don't arum up peodle tog ther to bollect tood and don't assign ther tosks and dork, but rather toach ther to bong for the sndlesssimmensito on the shns\n",
      "podoolwant to cuild a ship, don't arum up people to  ther to collect tood and aon't assign them tosks and dork, but rathem toach them to cong for the sndlesssimmensity of the shns\n",
      "podoolwant to cuild a ship, don't arum ap people togethe  to collect tood and don't assign them tosks and dork, but rathem toach them to cong for the sndlesssimmensity of the shns\n",
      "podoolwant to cuild a ship, don't arum up people tog the  to collect wood and don't assign them tosks and dork, but rathem toach the  to cong for the endle s immensity of the eens\n",
      "podoolwont to cuild a ship, don't arum up people tog ther to collect wood and don't dssign them tosks and dork, but rather toach them to cong for the endless immensity of the ehns\n",
      "godorlwont to cuild a ship, don't arum up people tog ther to collect wood and don't assign them tosks and dork, but rather toach them to cong for the endless immensity of the shns\n",
      "g doo want to cuild a ship, don't arum up people together te collect wood and don't assign them tosks and dork, but rather teach them to cong for the endless immensity of the een \n",
      "g doo want to build anship, don't arum up people tog ther te lollect wood and don't assign them tosks and dork, but rather teach them to long for the tndless immensity of the tea \n",
      "p doo want to build a ship, don't arum up people together to lollect wood and don't assign them tosks and dork, but rather teach them to long for the sndless immensity of the sha \n",
      "l doo want to build a ship, don't arum up people together to lollect wood and don't assign them tosks and dork, but rather teach them to long for the endless immensity of the sha \n",
      "l doo want to build a ship, don't arum up people together to lollect wood and don't assign them tosks and dork, but rather toach them to long for the endless immensity of the eea \n",
      "l wou want to build a ship, don't arum up people together te lollect wood and don't assign them tosks and dork, but rather teach them to long for the endless immensity of the sea \n",
      "l wou want to build a ship, don't arum up people together te collect wood and don't assign them tosks and dork, but rather teach them to cong for the endless immensity of the sea \n",
      "l woi want to build a ship, don't arum up people together to collect wood and don't assign them tosks and dork, but rather toach them to cong for the endless immensity of the sea \n",
      "l wou want to build a ship, don't drum up people together to collect wood and don't dssign them tosks and dork, but rather teach them to cong for the endless immensity of the sea \n",
      "lowou want to build a shipl don't drum up people together te collect wood and don't assign them tosks and dork, but rather teach them to long for the endless immensity of the eeac\n",
      "lotou want to build a ship, don't arum up people together to collect wood and don't assign them tosks and dork, but rather toach them to long for the endless immensity of the sea \n",
      "powou want to build anship, don't drum up people together to collect wood and don't dssign them tosks and dork, but rather teach them to long for the sndless immensity of the sea \n",
      "p wou want to build a ship, don't arum up people together te collect wood and don't assign them tosks and dork, but rather teach them to cong for the endless immensity of the sea \n",
      "l aou want to build a ship, don't arum up people together to collect wood and don't assign them tosks and dork, but rather teach them to long for the endless immensity of the sea \n",
      "f dou want to build a ship, don't drum up people together te collect wood and don't assign them tosks and dork, but rather teach them to long for the endless immensity of the sea \n",
      "p dou want to build a ship, don't drum up people together to collect wood and don't assign them tosks and dork, but rather teach them to long for the endless immensity of the sea \n",
      "p dou want to build a ship, don't drum up people together to collect wood and don't assign them tosks and dork, but rather teach them to cong for the endless immensity of the sea \n",
      "p wou want to build a ship, don't drum up people together te collect wood and won't assign them tosks and work, but rather teach them to cong for the endless immensity of the sea \n",
      "p wou want to build a ship, don't drum up people together to lollect wood and won't dssign them tosks and work, but rather teach them to long for the endless immensity of the sea \n",
      "p tou want to build a ship, don't drum up people together to collect wood and don't assign them tosks and dork, but rather teach them to long for the endless immensity of the sea \n",
      "f wou want to build a ship, don't drum up people together te collect wood and don't assign them tosks and dork, but rather teach them to cong for the endless immensity of the sea \n",
      "f wou want to build a ship, don't drum up people together to collect wood and don't assign them tosks and dork, but rather teach them to long for the endless immensity of the sea \n",
      "t wou want to build a ship, don't drum up people together te collect wood and don't assign them tosks and dork, but rather teach them to long for the endless immensity of the sea \n",
      "t wou want to build a ship, don't drum up people together to lollect wood and don't dssign them tosks and work, but rather teach them to long for the endless immensity of the seal\n",
      "t wou want to build a ship, don't drum up people together to collect wood and don't assign them tosks and work, but rather teach them to long for the endless immensity of the sea \n",
      "t tou want to build a ship, don't drum up people together te collect wood and don't assign them tosks and work, but rather teach them to long for the endless immensity of the sea \n",
      "t tou want to build a ship, don't drum up people together to collect wood and don't assign them tosks and work, but rather teach them to long for the endless immensity of the sea \n",
      "t dou want to build a ship, don't drum up people together to collect wood and don't assign them tosks and work, but rather teach them to long for the endless immensity of the sea \n",
      "t dou want to build a ship, don't drum up people together to collect wood and don't assign them tosks and work, but rather teach them to long for the endless immensity of the sea \n",
      "t dou want to build a ship, don't drum up people together to collect wood and don't assign them tosks and work, but rather teach them to long for the endless immensity of the sea \n",
      "p tou want to build a ship, don't drum up people together to collect wood and don't assign them tosks and work, but rather teach them to long for the endless immensity of the sea \n",
      "t tou want to build a ship, don't drum up people together to collect wood and don't assign them tosks and work, but rather teach them to long for the endless immensity of the sea \n",
      "t dou want to build a ship, don't drum up people together to collect wood and don't assign them tosks and work, but rather teach them to long for the endless immensity of the sea \n",
      "t dou want to build a ship, don't drum up people together to collect wood and don't assign them tosks and work, but rather teach them to long for the endless immensity of the sea \n",
      "t tou want to build a ship, don't drum up people together to collect wood and don't assign them tosks and work, but rather teach them to long for the endless immensity of the seal\n",
      "t dou want to build a ship, don't drum up people together to collect wood and don't assign them tosks and work, but rather teach them to long for the endless immensity of the seal\n",
      "f wou want to build a ship, don't drum up people together to collect wood and don't dssign them tosks and work, but rather teach them to long for the endless immensity of the seal\n",
      "t tou want to build a ship, don't drum up people together to collect wood and don't assign them tosks and work, but rather teach them to long for the endless immensity of the seal\n",
      "t dou want to build a ship, don't drum up people together to collect wood and don't assign them tosks and work, but rather teach them to long for the endless immensity of the sea \n",
      "p tou want to build a ship, don't drum up people together to collect wood and don't assign them tosks and work, but rather teach them to long for the endless immensity of the sea \n",
      "t tou want to build a ship, don't drum up people together to collect wood and don't assign them tosks and work, but rather toach them to long for the endless immensity of the eeal\n",
      "t wou want to build a ship, don't drum up people together to collect wood and don't assign them tasks and work, but rather teach them to long for the endless immensity of the sea \n",
      "t dou want to build a ship, don't drum up people together to collect wood and don't assign them tosks and work, but rather teach them to long for the endless immensity of the sea \n",
      "t dou want to build a ship, don't drum up people together to collect wood and don't assign them tosks and work, but rather teach them to long for the endless immensity of the sea \n",
      "t wou want to build a ship, don't drum up people together to collect wood and don't assign them tasks and work, but rather teach them to long for the endless immensity of the sea \n",
      "p you want to build a ship, don't drum up people together to collect wood and don't assign them tosks and work, but rather teach them to long for the endless immensity of the sea \n",
      "p tou want to build a ship, don't drum up people together to collect wood and don't assign them tasks and work, but rather teach them to long for the endless immensity of the sea \n",
      "p tou want to build a ship, don't drum up people together to collect wood and don't assign them tasks and work, but rather teach them to long for the endless immensity of the sea \n",
      "t you want to build a ship, don't drum up people together to collect wood and don't assign them tosks and work, but rather teach them to long for the endless immensity of the sea \n",
      "t dou want to build a ship, don't drum up people together to collect wood and don't assign them tasks and work, but rather teach them to long for the endless immensity of the sea \n",
      "f dou want to build a ship, don't drum up people together to collect wood and don't assign them tasks and work, but rather teach them to long for the endless immensity of the sea \n",
      "f dou want to build a ship, don't drum up people together to collect wood and don't assign them tasks and work, but rather teach them to long for the endless immensity of the sea \n",
      "m dou want to build a ship, don't drum up people together to collect wood and don't assign them tasks and work, but rather teach them to long for the endless immensity of the sea \n",
      "m you want to build a ship, don't drum up people together to collect wood and don't assign them tasks and work, but rather teach them to long for the endless immensity of the sea \n",
      "m you want to build a ship, don't drum up people together to collect wood and don't assign them tasks and work, but rather teach them to long for the endless immensity of the sea \n",
      "f wou want to build a ship, don't drum up people together to collect wood and don't assign them tasks and work, but rather teach them to long for the endless immensity of the sea \n"
     ]
    }
   ],
   "source": [
    "for i in range(100):\n",
    "    optimizer.zero_grad()\n",
    "    outputs = net(X)\n",
    "    loss = criterion(outputs.view(-1, dic_size), Y.view(-1))\n",
    "    loss.backward()\n",
    "    optimizer.step()\n",
    "    results = outputs.argmax(dim=2)\n",
    "    predict_str = \"\"\n",
    "    for j, result in enumerate(results):\n",
    "        if j == 0:\n",
    "            predict_str += ''.join([char_set[t] for t in result])\n",
    "        else:\n",
    "            predict_str += char_set[result[-1]]\n",
    "\n",
    "    print(predict_str)"
   ]
  }
 ],
 "metadata": {
  "kernelspec": {
   "display_name": "torch",
   "language": "python",
   "name": "torch"
  },
  "language_info": {
   "codemirror_mode": {
    "name": "ipython",
    "version": 3
   },
   "file_extension": ".py",
   "mimetype": "text/x-python",
   "name": "python",
   "nbconvert_exporter": "python",
   "pygments_lexer": "ipython3",
   "version": "3.8.5"
  }
 },
 "nbformat": 4,
 "nbformat_minor": 5
}
